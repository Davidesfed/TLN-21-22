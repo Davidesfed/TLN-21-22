{
 "cells": [
  {
   "attachments": {},
   "cell_type": "markdown",
   "metadata": {},
   "source": [
    "# Content2Form"
   ]
  },
  {
   "attachments": {},
   "cell_type": "markdown",
   "metadata": {},
   "source": [
    "In questo esercizio l'obiettivo è trovare il concetto a cui fanno riferimento alcune definizioni. In particolare dovremo trovare 4 concetti che si distinguono su due dimensioni: Concreto/Astratto e Specifico/Generico.\n",
    "\n",
    "Il metodo di risoluzione per singolo concetto prevede l'individuazione dei genus tra le parole che ricorrono maggiormente nelle definizioni afferenti a quel concetto. Partendo dai synset relativi ai genus si cercano i synset che potrebbero corrispondere ai concetti con una visita esaustiva degli iponimi. Ad ognuno dei synset così trovati viene assegnato un punteggio calcolato sulla base della somiglianza tra la definizione del synset stesso e le parole più frequenti nelle definizioni del concetto. I synset che massimizzano questo punteggio dovrebbero essere molto probabilmente i synset associati al concetto originale."
   ]
  },
  {
   "attachments": {},
   "cell_type": "markdown",
   "metadata": {},
   "source": [
    "## Import"
   ]
  },
  {
   "cell_type": "code",
   "execution_count": 27,
   "metadata": {},
   "outputs": [],
   "source": [
    "import csv\n",
    "from nltk.corpus import stopwords\n",
    "from nltk.corpus import wordnet as wn\n",
    "\n",
    "from gensim.test.utils import simple_preprocess\n",
    "from collections import Counter\n",
    "from funcy import merge_with\n",
    "\n",
    "import warnings\n",
    "warnings.filterwarnings('ignore')"
   ]
  },
  {
   "attachments": {},
   "cell_type": "markdown",
   "metadata": {},
   "source": [
    "## Preprocessing"
   ]
  },
  {
   "cell_type": "code",
   "execution_count": 28,
   "metadata": {},
   "outputs": [],
   "source": [
    "def preprocess_string(sent):\n",
    "    sent = simple_preprocess(sent)\n",
    "    res = [word for word in sent if word not in stopwords.words(\"english\")]\n",
    "    return res"
   ]
  },
  {
   "attachments": {},
   "cell_type": "markdown",
   "metadata": {},
   "source": [
    "## Recupero delle definizioni"
   ]
  },
  {
   "attachments": {},
   "cell_type": "markdown",
   "metadata": {},
   "source": [
    "Il primo step prevede di recuperare le definizioni dal file in cui sono memorizzate."
   ]
  },
  {
   "cell_type": "code",
   "execution_count": 29,
   "metadata": {},
   "outputs": [
    {
     "data": {
      "text/plain": [
       "[['Range of concepts human beings feel in certain situations',\n",
       "  'Something you can feel',\n",
       "  'Something that an animal can feel',\n",
       "  'something you think that makes you feel good or bad',\n",
       "  'Human sensation arising from the form of feelings',\n",
       "  'State of mind that a living being can percieve',\n",
       "  'Feeling that a human or an animal can express towards others',\n",
       "  'A sentiment that a living entity can feel and express throw words and their body.',\n",
       "  'what you feel in a certain moment',\n",
       "  \"feeling experienced by sentient beings and cause by events happening in the outside world as well as in the being's mind\",\n",
       "  '',\n",
       "  '',\n",
       "  'sentimental reation to an action',\n",
       "  'something you can feel',\n",
       "  'what a human being is feeling eg happyness sadness love',\n",
       "  'general concept of feeling',\n",
       "  'A feeling deriving from human life',\n",
       "  'an human sensation ',\n",
       "  'An animal feeling',\n",
       "  'Emotion is a psychic state',\n",
       "  'something that a human being can feel',\n",
       "  'Human sensation that can affect someones mood in either a positive or negative way',\n",
       "  'feeling of a living being',\n",
       "  'feeling',\n",
       "  'A particular state of mind of a person caused by something internal or external',\n",
       "  'A mental reaction',\n",
       "  'a strong feeling',\n",
       "  'Feeling/State felt by living beings',\n",
       "  'The mental state of an agent',\n",
       "  'Mental mood ',\n",
       "  'a feeling dued to something',\n",
       "  'Emotion is a feeling that is created by a physical or mental stimulus.'],\n",
       " ['Human being ',\n",
       "  'Human being',\n",
       "  'The generic for person is human, it describe a single human with some precise features',\n",
       "  'human',\n",
       "  'Living human being belonging to a group or society',\n",
       "  'Mammal descending from apes',\n",
       "  'Living entity, human being, sentient.',\n",
       "  'A human being.',\n",
       "  'human being u can see or touch',\n",
       "  'human being',\n",
       "  'human being',\n",
       "  '',\n",
       "  'living being, ',\n",
       "  'human with all his characteristics',\n",
       "  'human being, individual',\n",
       "  'animal with feeling',\n",
       "  'human being',\n",
       "  'human being ',\n",
       "  'Person is a human being',\n",
       "  'A person is a human being',\n",
       "  'a person is a human being',\n",
       "  'Member of the homo sapiens ',\n",
       "  'human',\n",
       "  'human being',\n",
       "  'An individual of the homo sapiens species',\n",
       "  'A human being',\n",
       "  'a human being',\n",
       "  'Human being, man or woman',\n",
       "  'A specific human being.',\n",
       "  'Human being ',\n",
       "  'a living entity',\n",
       "  'There is no single answer to this question as what it means to be human can vary from person to person. Some may say that being human is defined by certain physical characteristics, such as the ability to walk upright on two legs, or by certain cognitive abilities, such as the ability to think and reason. Others may say that being human is about having certain emotions and experiences, such as love, compassion, and happiness. Ultimately, what it means to be human is a complex and unique question that each individual must answer for themselves.'],\n",
       " ['Feeling, usually negative. Consequence of a wrongdoing done to someone, resulting in a bad action',\n",
       "  'An emotion that describes anger',\n",
       "  'Is classified as an emotion, generally not good and describe anger toward a specific person or entity',\n",
       "  'negative emotion ',\n",
       "  'Reaction of anger or violence on oneself or on others arising from some forms of feelings',\n",
       "  'Act performed by a living being triggered by emotions of anger and hatred',\n",
       "  'Act or feeling of anger resulting from another action done by the foe',\n",
       "  'Act of doing something to someone because of anger',\n",
       "  'action against something or someone, generally motivated by anger',\n",
       "  'sentiment of anger and disillusionment that leads a sentient being to act in a certain way towards someone else',\n",
       "  'Bad action taken against a person.',\n",
       "  '',\n",
       "  'sub- class of  emotion,  and emotional reaction to harm someone',\n",
       "  'feeling arising from something negative',\n",
       "  'feeling of facing someone and hurting him',\n",
       "  '',\n",
       "  'Desire ',\n",
       "  'a state of mind or an action which consists in hurting someone who has committed a wrong',\n",
       "  'Feeling about hurting smn after being hurt ',\n",
       "  'Revenge is a reaction in return of another one ',\n",
       "  'feeling to take an action in response to an injure',\n",
       "  'Situation where an individual has the intention of harming someone or something as a consequence of that thing or person hurting him before ',\n",
       "  'emotion caused by and towards someone',\n",
       "  'angry reaction towards someone',\n",
       "  \"A person's will to get back at someone for something bad they did\",\n",
       "  'The mental reaction of getting something to make up for a wrong',\n",
       "  'the act of damaging someone in return of an injury',\n",
       "  'The wish to damage someone who hurt you.',\n",
       "  'The act of damaging someone as a reaction',\n",
       "  'Mood',\n",
       "  'desire to do justice for themselves',\n",
       "  'Revenge is a type of justice that is often seen as a way of seeking retribution for a wrong that has been done.'],\n",
       " ['object made of a material (e.g. clay), usually with the aim of constructing buildings',\n",
       "  'block of some material, used in construction',\n",
       "  'Itâ€™s an object and is the basic element of a construction, like a building',\n",
       "  'piece of a material used to build something',\n",
       "  'Parallelepiped object used for the construction of buildings',\n",
       "  'Construction tool of resistnat material and with a polygonal shape',\n",
       "  'Material used for construction of buildings, can be in different shapes and sizes.',\n",
       "  'An object used to build walls.',\n",
       "  'Red object used to build constructions',\n",
       "  'block of material (e.i. clay) generally used for the cunstruction of buildings',\n",
       "  'Object used in construction. Es. Brick wall',\n",
       "  'a phyisical object usually made of clay used to build houses',\n",
       "  'physical material for house construction',\n",
       "  'object used for construction (house or well for eg.)',\n",
       "  'object used during costruction of buildings, made of clay or other materials',\n",
       "  'Part of build',\n",
       "  'block of material ',\n",
       "  'an object used to build something like a building',\n",
       "  'Block of material used for building construction',\n",
       "  'A brick is an object used in construction of buildings',\n",
       "  'block of some material used to build constructions',\n",
       "  'Object used as an element to build things',\n",
       "  'material made of clay used to build a structure',\n",
       "  'piece of material used to build something',\n",
       "  'An object usually used for constructing buildings, usually rectangular-shaped',\n",
       "  'A rectangular-shaped object made of clay used to build constructions',\n",
       "  'material used for construction',\n",
       "  '',\n",
       "  'Material used for construction.',\n",
       "  'An object made to build something ',\n",
       "  'object used to build something',\n",
       "  'A brick is a rectangular block of ceramic material used in construction.']]"
      ]
     },
     "execution_count": 29,
     "metadata": {},
     "output_type": "execute_result"
    }
   ],
   "source": [
    "def get_definitions(path):\n",
    "    res = []\n",
    "    with open(path, 'r') as file:\n",
    "        defs = csv.reader(file)\n",
    "        _ = next(defs)\n",
    "        for row in defs:\n",
    "            res.append(row[1:])\n",
    "    return res\n",
    "\n",
    "get_definitions('resources/definizioni.csv')"
   ]
  },
  {
   "attachments": {},
   "cell_type": "markdown",
   "metadata": {},
   "source": [
    "## Ricerca dei genus"
   ]
  },
  {
   "attachments": {},
   "cell_type": "markdown",
   "metadata": {},
   "source": [
    "A partire dalle definizioni, estraiamo le parole più frequenti, dalle quali selezioneremo i genus."
   ]
  },
  {
   "cell_type": "code",
   "execution_count": 30,
   "metadata": {},
   "outputs": [],
   "source": [
    "def find_most_frequent_words(definitions, max_num):\n",
    "    tmp = dict()\n",
    "    for definition in definitions:\n",
    "        counter = Counter(preprocess_string(definition))\n",
    "        tmp = merge_with(sum, tmp, counter)\n",
    "    sorted_counter = dict(sorted(tmp.items(), key=lambda x: x[1], reverse=True))\n",
    "    return list(sorted_counter.keys())[:max_num]"
   ]
  },
  {
   "attachments": {},
   "cell_type": "markdown",
   "metadata": {},
   "source": [
    "## Ricerca dei synset"
   ]
  },
  {
   "attachments": {},
   "cell_type": "markdown",
   "metadata": {},
   "source": [
    "A partire dai genus raccogliamo tutti i synset che potrebbero essere uno dei concetti originali. In particolare per ogni genus consideriamo alcuni synset ad esso associati. Per ognuno di questi synset visitiamo per intero il sottoalbero di cui è radice."
   ]
  },
  {
   "cell_type": "code",
   "execution_count": 31,
   "metadata": {},
   "outputs": [],
   "source": [
    "def retrieve_synsets(genuses, max_num):\n",
    "    res = set()\n",
    "    res.update(get_synsets_for_genus(genuses, max_num))\n",
    "    res.update(retrieve_hyponyms(res))\n",
    "    return list(res)\n",
    "\n",
    "def get_synsets_for_genus(genus, max_num):\n",
    "    res = []\n",
    "    for word in genus:\n",
    "        res.extend(wn.synsets(word)[:max_num])\n",
    "    return list(filter(lambda x: x is not None, res))\n",
    "\n",
    "def retrieve_hyponyms(synset_list):\n",
    "    res = []\n",
    "    hypo = lambda s: s.hyponyms()\n",
    "    for syns in synset_list:\n",
    "        res.extend(syns.closure(hypo))\n",
    "    return res"
   ]
  },
  {
   "attachments": {},
   "cell_type": "markdown",
   "metadata": {},
   "source": [
    "## Calcolo del best matching synset"
   ]
  },
  {
   "attachments": {},
   "cell_type": "markdown",
   "metadata": {},
   "source": [
    "Per ognuno dei synset calcoliamo un punteggio di sovrapposizione tra la definizione del synset stesso e le parole più frequenti nelle definizioni date da noi. In base a questo punteggio troviamo i synset con maggiore sovrapposizione, e che quindi saranno con maggiore probabilità i synset a cui afferisce il concetto originale."
   ]
  },
  {
   "cell_type": "code",
   "execution_count": 32,
   "metadata": {},
   "outputs": [],
   "source": [
    "def rank_synsets(synset_list, most_freq_words):\n",
    "    res = []\n",
    "    for syns in synset_list:\n",
    "        sovr = compute_sovrapposition(syns.definition(), most_freq_words)\n",
    "        if sovr != 0:\n",
    "            res.append((syns, sovr))\n",
    "    return list(sorted(res, key=lambda x: x[1], reverse=True))\n",
    "\n",
    "def compute_sovrapposition(definition, most_freq_words):\n",
    "    definition = preprocess_string(definition)\n",
    "    return len(set(definition) & set(most_freq_words))\n",
    "\n",
    "def filter_best_synsets(best_matching_synsets, limit):\n",
    "    max_value = best_matching_synsets[0][1]\n",
    "    best_matching_synsets = [x for x in best_matching_synsets if x[1] == max_value]\n",
    "    return best_matching_synsets[:limit]"
   ]
  },
  {
   "attachments": {},
   "cell_type": "markdown",
   "metadata": {},
   "source": [
    "## Esecuzione"
   ]
  },
  {
   "attachments": {},
   "cell_type": "markdown",
   "metadata": {},
   "source": [
    "Nell'esecuzione del programma sono state fatte alcune scelte:\n",
    "- il numero di parole più frequenti che consideriamo è 10\n",
    "- i genus sono selezionati come le tre parole più frequenti nelle definizioni di un concetto\n",
    "- cercando i synset a partire da un genus, cominciamo la ricerca dal primo synset restituito da wordnet per quel genus e non ne consideriamo altri\n",
    "- il numero massimo di synset diversi (tutti con lo stesso punteggio) per concetto che viene restituito in output è 5.\n",
    "\n",
    "Quest'ultima scelta, sebbene controintuitiva, si può facilmente ricondurre a un solo synset pescandone uno a caso, oppure implementando metodi di selezione più raffinati."
   ]
  },
  {
   "cell_type": "code",
   "execution_count": 33,
   "metadata": {},
   "outputs": [
    {
     "name": "stdout",
     "output_type": "stream",
     "text": [
      "Original concept: \"emotion\". Genus: ['feeling', 'human', 'feel']\n",
      "\thesitance.n.01 - score: 2\n",
      "\tintimidation.n.03 - score: 2\n",
      "\teagerness.n.01 - score: 2\n",
      "\tdisapproval.n.01 - score: 2\n",
      "\tboredom.n.01 - score: 2\n",
      "\n",
      "Original concept: \"person\". Genus: ['human', 'person', 'living']\n",
      "\tsecretary_of_health_and_human_services.n.01 - score: 2\n",
      "\ttenderfoot.n.01 - score: 2\n",
      "\tagricultural_laborer.n.01 - score: 2\n",
      "\tman_jack.n.01 - score: 2\n",
      "\tplaster_saint.n.01 - score: 2\n",
      "\n",
      "Original concept: \"revenge\". Genus: ['someone', 'anger', 'feeling']\n",
      "\texploiter.n.01 - score: 3\n",
      "\tdispleasure.n.01 - score: 3\n",
      "\tdisapproval.n.01 - score: 3\n",
      "\trespecter.n.01 - score: 3\n",
      "\tmourner.n.01 - score: 3\n",
      "\n",
      "Original concept: \"brick\". Genus: ['used', 'object', 'material']\n",
      "\tbuilding_block.n.02 - score: 4\n",
      "\tbrick.n.01 - score: 4\n",
      "\tcement.n.02 - score: 4\n",
      "\n"
     ]
    }
   ],
   "source": [
    "concepts = ['emotion', 'person', 'revenge', 'brick']\n",
    "definitions = get_definitions('resources/definizioni.csv')\n",
    "\n",
    "for concept in range(len(concepts)):\n",
    "    most_freq_words = find_most_frequent_words(definitions[concept], 10)\n",
    "    genuses = most_freq_words[:3]\n",
    "    synsets = retrieve_synsets(genuses, 1)\n",
    "    ranked_synsets = rank_synsets(synsets, most_freq_words)\n",
    "    results = filter_best_synsets(ranked_synsets, 5)\n",
    "\n",
    "    print(f'Original concept: \"{concepts[concept]}\". Genus: {genuses}')\n",
    "    for syns in results:\n",
    "        print(f'\\t{syns[0].name()} - score: {syns[1]}')\n",
    "    print()"
   ]
  },
  {
   "attachments": {},
   "cell_type": "markdown",
   "metadata": {},
   "source": [
    "Possiamo vedere come il programma non abbia avuto particolarmente successo con la sola eccezione del concetto \"brick\". Esso è il concetto Specifico e Concreto, che già nell'esercizio Defs avevamo visto distinguersi particolarmente dagli altri per similarità tra le definizioni."
   ]
  }
 ],
 "metadata": {
  "kernelspec": {
   "display_name": "Python 3",
   "language": "python",
   "name": "python3"
  },
  "language_info": {
   "codemirror_mode": {
    "name": "ipython",
    "version": 3
   },
   "file_extension": ".py",
   "mimetype": "text/x-python",
   "name": "python",
   "nbconvert_exporter": "python",
   "pygments_lexer": "ipython3",
   "version": "3.10.8"
  },
  "orig_nbformat": 4
 },
 "nbformat": 4,
 "nbformat_minor": 2
}

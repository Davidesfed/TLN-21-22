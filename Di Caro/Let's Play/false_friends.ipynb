{
 "cells": [
  {
   "attachments": {},
   "cell_type": "markdown",
   "metadata": {},
   "source": [
    "# False Friends"
   ]
  },
  {
   "attachments": {},
   "cell_type": "markdown",
   "metadata": {},
   "source": [
    "## Definizione di problema e algoritmo"
   ]
  },
  {
   "attachments": {},
   "cell_type": "markdown",
   "metadata": {},
   "source": [
    "__Problema:__ Costruire un programma che date due parole una in italiano e una in inglese determini se esse sono false friends o meno.\n",
    "\n",
    "Ci sono due iperparametri, che sono le due soglie di similarità.\n",
    "\n",
    "__Algoritmo:__ l'input è formato da due parole, una in italiano e una in inglese. L'output consiste in un valore booleano che dica se le due parole sono falsi amici. \n",
    "1. Calcolo della distanza di Hamming tra le parole. Se il risultato super una certa soglia, prosegui. Altrimenti output NO.\n",
    "2. Ottenimento delle traduzioni della parola italiana in inglese.\n",
    "3. Calcolo della WUP similarity massima tra la i possibili sensi delle parole. Se questo valore è minore di una certa soglia, allora output SI. Altrimenti output NO."
   ]
  },
  {
   "cell_type": "code",
   "execution_count": 19,
   "metadata": {},
   "outputs": [],
   "source": [
    "from nltk.corpus import wordnet as wn\n",
    "from translate import Translator"
   ]
  },
  {
   "cell_type": "code",
   "execution_count": 34,
   "metadata": {},
   "outputs": [],
   "source": [
    "# Hyper parameters\n",
    "STRING_THRESHOLD = 0.5\n",
    "SENSE_THRESHOLD = 0.85"
   ]
  },
  {
   "cell_type": "code",
   "execution_count": 21,
   "metadata": {},
   "outputs": [],
   "source": [
    "def compute_string_similarity(string1, string2):\n",
    "    string1 = string1.lower()\n",
    "    string2 = string2.lower()\n",
    "    length = min(len(string1), len(string2))\n",
    "    return sum([string1[i] == string2[i] for i in range(length)]) / length\n",
    "\n",
    "def compute_sense_similarity(word1, word2):\n",
    "    synsets1 = wn.synsets(word1)\n",
    "    synsets2 = wn.synsets(word2)\n",
    "    max_sim = 0\n",
    "    max_syns = []\n",
    "    for syns1 in synsets1:\n",
    "        for syns2 in synsets2:\n",
    "            sim = wn.wup_similarity(syns1, syns2)\n",
    "            if sim > max_sim:\n",
    "                max_sim = sim\n",
    "                max_syns = [syns1, syns2]\n",
    "            \n",
    "    return max_sim, max_syns"
   ]
  },
  {
   "cell_type": "code",
   "execution_count": 29,
   "metadata": {},
   "outputs": [],
   "source": [
    "def false_friends(eng_word, ita_word):\n",
    "    # Translation\n",
    "    translator = Translator(to_lang='en', from_lang='it')\n",
    "    translated_ita_word = translator.translate(ita_word)\n",
    "\n",
    "    # String Similarity\n",
    "    sovrapposition = compute_string_similarity(eng_word, ita_word)\n",
    "    if sovrapposition < STRING_THRESHOLD:\n",
    "        print(\"La distanza di Hamming è troppo grande. Le due parole non sono falsi amici.\")\n",
    "        return False\n",
    "    else:\n",
    "        # Sense Similarity\n",
    "        sense_sim = compute_sense_similarity(eng_word, translated_ita_word)\n",
    "        if sense_sim[0] < SENSE_THRESHOLD:\n",
    "            print(f\"Le due parole sono falsi amici. I loro significati sono rispettivamente: {sense_sim[1][0].name()}, {sense_sim[1][1].name()}\")\n",
    "            return True\n",
    "        else:\n",
    "            print(\"Le due parole possono assumere un significato simile, quindi non sono sempre falsi amici.\")\n",
    "            return False"
   ]
  },
  {
   "cell_type": "code",
   "execution_count": 35,
   "metadata": {},
   "outputs": [
    {
     "name": "stdout",
     "output_type": "stream",
     "text": [
      "La distanza di Hamming è troppo grande. Le due parole non sono falsi amici.\n"
     ]
    }
   ],
   "source": [
    "# Input \n",
    "eng_word = 'actually'\n",
    "ita_word = 'attualmente'\n",
    "\n",
    "# eng_word = 'excavator'\n",
    "# ita_word = 'scavatore'\n",
    "\n",
    "res = false_friends(eng_word, ita_word)"
   ]
  }
 ],
 "metadata": {
  "kernelspec": {
   "display_name": "Python 3",
   "language": "python",
   "name": "python3"
  },
  "language_info": {
   "codemirror_mode": {
    "name": "ipython",
    "version": 3
   },
   "file_extension": ".py",
   "mimetype": "text/x-python",
   "name": "python",
   "nbconvert_exporter": "python",
   "pygments_lexer": "ipython3",
   "version": "3.10.8"
  },
  "orig_nbformat": 4,
  "vscode": {
   "interpreter": {
    "hash": "f51c5fe9e9a58efa1043b1548cfcb156c8f39c9e60365a17bc19defd3d30b528"
   }
  }
 },
 "nbformat": 4,
 "nbformat_minor": 2
}

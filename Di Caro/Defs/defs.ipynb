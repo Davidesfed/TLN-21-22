{
 "cells": [
  {
   "attachments": {},
   "cell_type": "markdown",
   "metadata": {},
   "source": [
    "# Defs"
   ]
  },
  {
   "attachments": {},
   "cell_type": "markdown",
   "metadata": {},
   "source": [
    "## Import"
   ]
  },
  {
   "cell_type": "code",
   "execution_count": 56,
   "metadata": {},
   "outputs": [],
   "source": [
    "import csv\n",
    "from nltk.corpus import stopwords\n",
    "from statistics import mean\n",
    "import matplotlib.pyplot as plt\n",
    "from gensim.test.utils import simple_preprocess"
   ]
  },
  {
   "attachments": {},
   "cell_type": "markdown",
   "metadata": {},
   "source": [
    "## Preprocessing"
   ]
  },
  {
   "cell_type": "code",
   "execution_count": 57,
   "metadata": {},
   "outputs": [],
   "source": [
    "def preprocess_string(sentence): \n",
    "    res = []\n",
    "    sentence = simple_preprocess(sentence)\n",
    "    for word in sentence:\n",
    "        if word not in stopwords.words(\"english\"):\n",
    "            res.append(word)\n",
    "    return res"
   ]
  },
  {
   "attachments": {},
   "cell_type": "markdown",
   "metadata": {},
   "source": [
    "## Estrazione dati dal file"
   ]
  },
  {
   "attachments": {},
   "cell_type": "markdown",
   "metadata": {},
   "source": [
    "Per estrarre i dati dal file preprocessiamo le varie definizioni e le salviamo in un dizionario che ha per chiavi i quattro concetti."
   ]
  },
  {
   "cell_type": "code",
   "execution_count": 58,
   "metadata": {},
   "outputs": [],
   "source": [
    "def get_definitions(path):\n",
    "    with open(path, 'r') as file:\n",
    "        definitions = dict()\n",
    "        for row in csv.reader(file):\n",
    "            concept = row[0].lower()\n",
    "            definitions[concept] = []\n",
    "            for definition in row[1:]:\n",
    "                definition = preprocess_string(definition)\n",
    "                if len(definition) != 0:\n",
    "                    definitions[concept].append(definition)\n",
    "    return definitions"
   ]
  },
  {
   "attachments": {},
   "cell_type": "markdown",
   "metadata": {},
   "source": [
    "## Calcolo similarità"
   ]
  },
  {
   "attachments": {},
   "cell_type": "markdown",
   "metadata": {},
   "source": [
    "Per calcolare la similarità di due definizioni scegliamo un approccio molto semplice: prendiamo la cardinalità dell'intersezione degli insiemi dei termini utilizzati.\n",
    "Inoltre prima di restituire la media la dividiamo per il valore massimo in modo da portarla tra 0 e 1, così da poterla confrontare con le medie degli altri concetti."
   ]
  },
  {
   "cell_type": "code",
   "execution_count": 59,
   "metadata": {},
   "outputs": [],
   "source": [
    "def compute_similarity(def1, def2):\n",
    "    return len(set(def1) & set(def2))\n",
    "\n",
    "def avg_sim_of_concept(definitions):\n",
    "    sim = []\n",
    "    for i in range(0, len(definitions)):\n",
    "        for j in range(i, len(definitions)):\n",
    "            sim.append(compute_similarity(definitions[i], definitions[j]))\n",
    "    return mean(sim) / max(sim)"
   ]
  },
  {
   "attachments": {},
   "cell_type": "markdown",
   "metadata": {},
   "source": [
    "A questo punto calcoliamo i valori di similarità per ciascun concetto."
   ]
  },
  {
   "cell_type": "code",
   "execution_count": 60,
   "metadata": {},
   "outputs": [],
   "source": [
    "def compute_similarities_of_concepts(concepts, definitions):\n",
    "    similarities = dict((concept,0) for concept in concepts)\n",
    "    for concept in concepts:\n",
    "        sim = round(avg_sim_of_concept(definitions[concept]), 4)\n",
    "        similarities[concept] = sim\n",
    "    return similarities"
   ]
  },
  {
   "attachments": {},
   "cell_type": "markdown",
   "metadata": {},
   "source": [
    "## Plot dei risultati"
   ]
  },
  {
   "attachments": {},
   "cell_type": "markdown",
   "metadata": {},
   "source": [
    "In ultimo plottiamo i risultati ottenuti in una tabella, aggregando rispetto alle dimensioni Concreto/Astratto e Generico/Specifico"
   ]
  },
  {
   "cell_type": "code",
   "execution_count": 61,
   "metadata": {},
   "outputs": [],
   "source": [
    "def print_table(similarities):\n",
    "    fig, ax = plt.subplots()\n",
    "\n",
    "    # hide axes\n",
    "    fig.patch.set_visible(False)\n",
    "    ax.axis('off')\n",
    "    ax.axis('tight')\n",
    "    c = ['Concreto', 'Astratto']\n",
    "    r = ['Generico', 'Specifico']\n",
    "    \n",
    "    similarities = [\n",
    "        [similarities['emotion'], similarities['person']],\n",
    "        [similarities['brick'], similarities['revenge']]\n",
    "    ]\n",
    "\n",
    "    ax.table(cellText=similarities, \n",
    "            colLabels=c, \n",
    "            rowLabels=r, \n",
    "            loc='center',\n",
    "            cellLoc='center')\n",
    "\n",
    "    fig.tight_layout()\n",
    "    plt.show()"
   ]
  },
  {
   "attachments": {},
   "cell_type": "markdown",
   "metadata": {},
   "source": [
    "## Esecuzione"
   ]
  },
  {
   "cell_type": "code",
   "execution_count": 62,
   "metadata": {},
   "outputs": [
    {
     "data": {
      "image/png": "[encoded data removed]",
      "text/plain": [
       "<Figure size 432x288 with 1 Axes>"
      ]
     },
     "metadata": {
      "needs_background": "light"
     },
     "output_type": "display_data"
    }
   ],
   "source": [
    "PATH = 'resources/definizioni.csv'\n",
    "concepts = ['emotion', 'person', 'brick', 'revenge']\n",
    "\n",
    "definitions = get_definitions(PATH)\n",
    "similarities = compute_similarities_of_concepts(concepts, definitions)\n",
    "print_table(similarities)"
   ]
  }
 ],
 "metadata": {
  "kernelspec": {
   "display_name": "Python 3.10.4 64-bit",
   "language": "python",
   "name": "python3"
  },
  "language_info": {
   "codemirror_mode": {
    "name": "ipython",
    "version": 3
   },
   "file_extension": ".py",
   "mimetype": "text/x-python",
   "name": "python",
   "nbconvert_exporter": "python",
   "pygments_lexer": "ipython3",
   "version": "3.10.8"
  },
  "orig_nbformat": 4,
  "vscode": {
   "interpreter": {
    "hash": "f51c5fe9e9a58efa1043b1548cfcb156c8f39c9e60365a17bc19defd3d30b528"
   }
  }
 },
 "nbformat": 4,
 "nbformat_minor": 2
}

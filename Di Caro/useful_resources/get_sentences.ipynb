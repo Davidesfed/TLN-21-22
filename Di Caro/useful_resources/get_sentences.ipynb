{
 "cells": [
  {
   "cell_type": "code",
   "execution_count": 12,
   "metadata": {},
   "outputs": [],
   "source": [
    "import requests\n",
    "import re\n",
    "from bs4 import BeautifulSoup\n",
    "from bs4.element import Tag\n",
    "\n",
    "def retrieve_page(url):\n",
    "    response = requests.get(url)\n",
    "    text = to_plaintext(response.text)\n",
    "    text = re.sub(r'\\[[0-9]*\\]', '', text)\n",
    "    text = re.sub(r'\\[[a-z]*\\]', '', text)\n",
    "    return text\n",
    "\n",
    "def to_plaintext(html_text):\n",
    "    soup = BeautifulSoup(html_text, features=\"lxml\")\n",
    "    extracted_blocks = _extract_blocks(soup.body)\n",
    "    extracted_blocks_texts = [block.get_text().strip() for block in extracted_blocks]\n",
    "    return \"\\n\".join(extracted_blocks_texts)\n",
    "\n",
    "def _extract_blocks(parent_tag):\n",
    "    blocks = [\"p\", \"h1\", \"h2\", \"h3\", \"h4\", \"h5\", \"blockquote\"] # Nomi dei tag html da cui vogliamo estrarre testo\n",
    "    extracted_blocks = []\n",
    "    for tag in parent_tag:\n",
    "        if tag.name in blocks:\n",
    "            extracted_blocks.append(tag)\n",
    "            continue\n",
    "        if isinstance(tag, Tag):\n",
    "            if len(tag.contents) > 0:\n",
    "                inner_blocks = _extract_blocks(tag)\n",
    "                if len(inner_blocks) > 0:\n",
    "                    extracted_blocks.extend(inner_blocks)\n",
    "    return extracted_blocks"
   ]
  },
  {
   "cell_type": "code",
   "execution_count": 15,
   "metadata": {},
   "outputs": [],
   "source": [
    "url = 'https://sentence.yourdictionary.com/raise'\n",
    "file_path = 'sentences_raise.txt'\n",
    "\n",
    "data = retrieve_page(url)\n",
    "data = \"\\n\".join(filter(lambda x: x.find('raise') > -1, data.split('\\n')))\n",
    "\n",
    "with open(file_path, 'a', encoding='utf8') as f:\n",
    "    for sent in data:\n",
    "        f.write(sent)"
   ]
  }
 ],
 "metadata": {
  "kernelspec": {
   "display_name": "Python 3",
   "language": "python",
   "name": "python3"
  },
  "language_info": {
   "codemirror_mode": {
    "name": "ipython",
    "version": 3
   },
   "file_extension": ".py",
   "mimetype": "text/x-python",
   "name": "python",
   "nbconvert_exporter": "python",
   "pygments_lexer": "ipython3",
   "version": "3.10.8"
  },
  "orig_nbformat": 4,
  "vscode": {
   "interpreter": {
    "hash": "f51c5fe9e9a58efa1043b1548cfcb156c8f39c9e60365a17bc19defd3d30b528"
   }
  }
 },
 "nbformat": 4,
 "nbformat_minor": 2
}
